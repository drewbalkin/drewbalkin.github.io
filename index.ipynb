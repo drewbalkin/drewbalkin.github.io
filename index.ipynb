{
  "cells": [
    {
      "cell_type": "raw",
      "metadata": {},
      "source": [
        "---\n",
        "title: \"drewbalkin.github.io\"\n",
        "---"
      ],
      "id": "0d05190e"
    },
    {
      "cell_type": "markdown",
      "metadata": {},
      "source": [
        "This is a Quarto website.\n",
        "\n",
        "To learn more about Quarto websites visit <https://quarto.org/docs/websites>.\n"
      ],
      "id": "14a403f4"
    },
    {
      "cell_type": "code",
      "metadata": {},
      "source": [
        "import torch\n",
        "x = torch.tensor([1.])\n",
        "print(x)"
      ],
      "id": "ca20e7a5",
      "execution_count": null,
      "outputs": []
    }
  ],
  "metadata": {
    "kernelspec": {
      "name": "python3",
      "language": "python",
      "display_name": "Python 3"
    }
  },
  "nbformat": 4,
  "nbformat_minor": 5
}